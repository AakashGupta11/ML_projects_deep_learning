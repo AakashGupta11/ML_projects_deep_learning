{
 "cells": [
  {
   "cell_type": "code",
   "execution_count": 0,
   "metadata": {
    "colab": {
     "autoexec": {
      "startup": false,
      "wait_interval": 0
     }
    },
    "colab_type": "code",
    "id": "BECfhoMCZlFs"
   },
   "outputs": [],
   "source": [
    "import keras\n",
    "from keras.models import Sequential\n",
    "from keras.layers import Convolution2D\n",
    "from keras.layers import MaxPool2D\n",
    "from keras.layers import Flatten\n",
    "from keras.layers import Dense\n",
    "from keras.datasets import cifar10\n",
    "from keras.utils import np_utils\n",
    "from keras.layers import Dropout\n",
    "from keras.preprocessing.image import ImageDataGenerator\n",
    "import matplotlib.pyplot as plt"
   ]
  },
  {
   "cell_type": "code",
   "execution_count": 0,
   "metadata": {
    "colab": {
     "autoexec": {
      "startup": false,
      "wait_interval": 0
     }
    },
    "colab_type": "code",
    "id": "qO4PfSkXbqbU"
   },
   "outputs": [],
   "source": [
    "(X_train, y_train), (X_test, y_test) = cifar10.load_data()"
   ]
  },
  {
   "cell_type": "code",
   "execution_count": 0,
   "metadata": {
    "colab": {
     "autoexec": {
      "startup": false,
      "wait_interval": 0
     }
    },
    "colab_type": "code",
    "id": "zfASFN2cbta6"
   },
   "outputs": [],
   "source": [
    "X_train = X_train / 255.0\n",
    "X_test = X_test / 255.0"
   ]
  },
  {
   "cell_type": "code",
   "execution_count": 0,
   "metadata": {
    "colab": {
     "autoexec": {
      "startup": false,
      "wait_interval": 0
     }
    },
    "colab_type": "code",
    "id": "iknjlLV8crCW"
   },
   "outputs": [],
   "source": [
    "X_train_data = X_train[:45000]\n",
    "X_test_data = X_train[45000:]"
   ]
  },
  {
   "cell_type": "code",
   "execution_count": 0,
   "metadata": {
    "colab": {
     "autoexec": {
      "startup": false,
      "wait_interval": 0
     }
    },
    "colab_type": "code",
    "id": "HM9r9tO-crcj"
   },
   "outputs": [],
   "source": []
  },
  {
   "cell_type": "code",
   "execution_count": 0,
   "metadata": {
    "colab": {
     "autoexec": {
      "startup": false,
      "wait_interval": 0
     }
    },
    "colab_type": "code",
    "id": "izFXvrCibtX5"
   },
   "outputs": [],
   "source": [
    "y_train = np_utils.to_categorical(y_train, num_classes = 10)\n",
    "y_test = np_utils.to_categorical(y_test, num_classes = 10)"
   ]
  },
  {
   "cell_type": "code",
   "execution_count": 0,
   "metadata": {
    "colab": {
     "autoexec": {
      "startup": false,
      "wait_interval": 0
     }
    },
    "colab_type": "code",
    "id": "CKRfUZsBdhjt"
   },
   "outputs": [],
   "source": [
    "Y_train_data = y_train[:45000]\n",
    "Y_test_data = y_train[45000:]"
   ]
  },
  {
   "cell_type": "code",
   "execution_count": 0,
   "metadata": {
    "colab": {
     "autoexec": {
      "startup": false,
      "wait_interval": 0
     }
    },
    "colab_type": "code",
    "id": "_WF3BDUIbtU_"
   },
   "outputs": [],
   "source": [
    "# Sequential model\n",
    "classifier = Sequential()\n",
    "# First Convolution layer\n",
    "classifier.add(Convolution2D(32, (3, 3), input_shape = (32, 32, 3), activation = 'relu'))\n",
    "classifier.add(MaxPool2D(pool_size = (2, 2)))\n",
    "# Second Convolution layer\n",
    "classifier.add(Convolution2D(64, (3, 3), activation = 'relu'))\n",
    "classifier.add(MaxPool2D(pool_size = (2, 2)))\n",
    "# Third Convolution layer\n",
    "classifier.add(Convolution2D(128, (3, 3), activation = 'relu'))\n",
    "classifier.add(MaxPool2D(pool_size = (2, 2)))\n",
    "# Flatten layer\n",
    "classifier.add(Flatten())\n",
    "''' Fully Connected layers '''\n",
    "# Hidden layers\n",
    "classifier.add(Dense(units = 1024, kernel_initializer = 'uniform', activation = 'relu'))\n",
    "classifier.add(Dropout(0.2))\n",
    "classifier.add(Dense(units = 512, kernel_initializer = 'uniform', activation = 'relu'))\n",
    "classifier.add(Dropout(0.2))\n",
    "# Output layer\n",
    "classifier.add(Dense(units = 10, kernel_initializer = 'uniform', activation = 'sigmoid'))\n"
   ]
  },
  {
   "cell_type": "code",
   "execution_count": 0,
   "metadata": {
    "colab": {
     "autoexec": {
      "startup": false,
      "wait_interval": 0
     }
    },
    "colab_type": "code",
    "id": "X25pQle-cIVR"
   },
   "outputs": [],
   "source": [
    "# Compiling the model\n",
    "classifier.compile(optimizer = 'adam', loss = 'categorical_crossentropy', metrics = ['accuracy'])"
   ]
  },
  {
   "cell_type": "code",
   "execution_count": 20,
   "metadata": {
    "colab": {
     "autoexec": {
      "startup": false,
      "wait_interval": 0
     },
     "base_uri": "https://localhost:8080/",
     "height": 921
    },
    "colab_type": "code",
    "executionInfo": {
     "elapsed": 60320,
     "status": "ok",
     "timestamp": 1532592912880,
     "user": {
      "displayName": "Aakash Gupta",
      "photoUrl": "//lh6.googleusercontent.com/-kX-2bxhvVVI/AAAAAAAAAAI/AAAAAAAAABY/Nc0rPjwkC8s/s50-c-k-no/photo.jpg",
      "userId": "116951462494679469142"
     },
     "user_tz": -330
    },
    "id": "36tVJ6JWcISE",
    "outputId": "6c185b09-74a8-42bc-adaf-00bce95d754f"
   },
   "outputs": [
    {
     "name": "stdout",
     "output_type": "stream",
     "text": [
      "Train on 45000 samples, validate on 5000 samples\n",
      "Epoch 1/25\n",
      "22048/45000 [=============>................] - ETA: 59s - loss: 1.8356 - acc: 0.3040 45000/45000 [==============================] - 121s 3ms/step - loss: 1.6539 - acc: 0.3824 - val_loss: 1.4226 - val_acc: 0.4560\n",
      "Epoch 2/25\n",
      " 5664/45000 [==>...........................] - ETA: 1:41 - loss: 1.3466 - acc: 0.514144992/45000 [============================>.] - ETA: 0s - loss: 1.2516 - acc: 0.552245000/45000 [==============================] - 121s 3ms/step - loss: 1.2516 - acc: 0.5521 - val_loss: 1.1594 - val_acc: 0.5840\n",
      "Epoch 3/25\n",
      "14304/45000 [========>.....................] - ETA: 1:20 - loss: 1.1029 - acc: 0.611745000/45000 [==============================] - 125s 3ms/step - loss: 1.0710 - acc: 0.6217 - val_loss: 1.0965 - val_acc: 0.6210\n",
      "Epoch 4/25\n",
      " 2720/45000 [>.............................] - ETA: 1:51 - loss: 0.9675 - acc: 0.655944992/45000 [============================>.] - ETA: 0s - loss: 0.9511 - acc: 0.664545000/45000 [==============================] - 123s 3ms/step - loss: 0.9511 - acc: 0.6645 - val_loss: 0.9501 - val_acc: 0.6738\n",
      "Epoch 5/25\n",
      "14304/45000 [========>.....................] - ETA: 1:21 - loss: 0.8466 - acc: 0.702545000/45000 [==============================] - 123s 3ms/step - loss: 0.8537 - acc: 0.7004 - val_loss: 0.8878 - val_acc: 0.6964\n",
      "Epoch 6/25\n",
      " 2720/45000 [>.............................] - ETA: 1:51 - loss: 0.7601 - acc: 0.724344992/45000 [============================>.] - ETA: 0s - loss: 0.7728 - acc: 0.728145000/45000 [==============================] - 123s 3ms/step - loss: 0.7728 - acc: 0.7282 - val_loss: 0.9003 - val_acc: 0.6958\n",
      "Epoch 7/25\n",
      "14304/45000 [========>.....................] - ETA: 1:21 - loss: 0.6788 - acc: 0.757545000/45000 [==============================] - 123s 3ms/step - loss: 0.7027 - acc: 0.7499 - val_loss: 0.9126 - val_acc: 0.6970\n",
      "Epoch 8/25\n",
      " 2720/45000 [>.............................] - ETA: 1:52 - loss: 0.6261 - acc: 0.787544992/45000 [============================>.] - ETA: 0s - loss: 0.6394 - acc: 0.774045000/45000 [==============================] - 123s 3ms/step - loss: 0.6395 - acc: 0.7740 - val_loss: 0.8952 - val_acc: 0.7042\n",
      "Epoch 9/25\n",
      "14304/45000 [========>.....................] - ETA: 1:21 - loss: 0.5469 - acc: 0.800345000/45000 [==============================] - 124s 3ms/step - loss: 0.5790 - acc: 0.7906 - val_loss: 0.9779 - val_acc: 0.6886\n",
      "Epoch 10/25\n",
      " 2720/45000 [>.............................] - ETA: 1:51 - loss: 0.4986 - acc: 0.817344992/45000 [============================>.] - ETA: 0s - loss: 0.5259 - acc: 0.812345000/45000 [==============================] - 125s 3ms/step - loss: 0.5258 - acc: 0.8122 - val_loss: 0.9531 - val_acc: 0.7038\n",
      "Epoch 11/25\n",
      "14240/45000 [========>.....................] - ETA: 1:22 - loss: 0.4460 - acc: 0.838445000/45000 [==============================] - 124s 3ms/step - loss: 0.4754 - acc: 0.8286 - val_loss: 0.9448 - val_acc: 0.7098\n",
      "Epoch 12/25\n",
      " 2688/45000 [>.............................] - ETA: 1:52 - loss: 0.3615 - acc: 0.868744992/45000 [============================>.] - ETA: 0s - loss: 0.4357 - acc: 0.842445000/45000 [==============================] - 126s 3ms/step - loss: 0.4357 - acc: 0.8424 - val_loss: 0.9683 - val_acc: 0.7160\n",
      "Epoch 13/25\n",
      "14240/45000 [========>.....................] - ETA: 1:22 - loss: 0.3742 - acc: 0.863645000/45000 [==============================] - 128s 3ms/step - loss: 0.4000 - acc: 0.8560 - val_loss: 1.0896 - val_acc: 0.7052\n",
      "Epoch 14/25\n",
      " 2656/45000 [>.............................] - ETA: 3:07 - loss: 0.3366 - acc: 0.879944992/45000 [============================>.] - ETA: 0s - loss: 0.3709 - acc: 0.866745000/45000 [==============================] - 129s 3ms/step - loss: 0.3709 - acc: 0.8667 - val_loss: 1.1540 - val_acc: 0.7092\n",
      "Epoch 15/25\n",
      "14240/45000 [========>.....................] - ETA: 1:21 - loss: 0.3113 - acc: 0.886445000/45000 [==============================] - 123s 3ms/step - loss: 0.3458 - acc: 0.8779 - val_loss: 1.1311 - val_acc: 0.7062\n",
      "Epoch 16/25\n",
      " 2688/45000 [>.............................] - ETA: 1:51 - loss: 0.2886 - acc: 0.893244992/45000 [============================>.] - ETA: 0s - loss: 0.3259 - acc: 0.884045000/45000 [==============================] - 123s 3ms/step - loss: 0.3262 - acc: 0.8840 - val_loss: 1.1716 - val_acc: 0.7048\n",
      "Epoch 17/25\n",
      "14240/45000 [========>.....................] - ETA: 1:19 - loss: 0.2858 - acc: 0.898845000/45000 [==============================] - 121s 3ms/step - loss: 0.3138 - acc: 0.8908 - val_loss: 1.1709 - val_acc: 0.7074\n",
      "Epoch 18/25\n",
      " 2688/45000 [>.............................] - ETA: 1:50 - loss: 0.2607 - acc: 0.909244992/45000 [============================>.] - ETA: 0s - loss: 0.2974 - acc: 0.895945000/45000 [==============================] - 123s 3ms/step - loss: 0.2974 - acc: 0.8959 - val_loss: 1.2385 - val_acc: 0.7050\n",
      "Epoch 19/25\n",
      "14240/45000 [========>.....................] - ETA: 1:21 - loss: 0.2657 - acc: 0.907445000/45000 [==============================] - 123s 3ms/step - loss: 0.2818 - acc: 0.9018 - val_loss: 1.2678 - val_acc: 0.7158\n",
      "Epoch 20/25\n",
      " 2688/45000 [>.............................] - ETA: 1:50 - loss: 0.2344 - acc: 0.916744992/45000 [============================>.] - ETA: 0s - loss: 0.2659 - acc: 0.908545000/45000 [==============================] - 122s 3ms/step - loss: 0.2659 - acc: 0.9085 - val_loss: 1.2134 - val_acc: 0.7130\n",
      "Epoch 21/25\n",
      "14240/45000 [========>.....................] - ETA: 1:21 - loss: 0.2280 - acc: 0.919045000/45000 [==============================] - 123s 3ms/step - loss: 0.2524 - acc: 0.9123 - val_loss: 1.2370 - val_acc: 0.7136\n",
      "Epoch 22/25\n",
      " 2688/45000 [>.............................] - ETA: 1:52 - loss: 0.2140 - acc: 0.928244992/45000 [============================>.] - ETA: 0s - loss: 0.2463 - acc: 0.917345000/45000 [==============================] - 121s 3ms/step - loss: 0.2464 - acc: 0.9173 - val_loss: 1.3988 - val_acc: 0.7078\n",
      "Epoch 23/25\n",
      "14240/45000 [========>.....................] - ETA: 1:18 - loss: 0.2347 - acc: 0.925445000/45000 [==============================] - 119s 3ms/step - loss: 0.2413 - acc: 0.9204 - val_loss: 1.3125 - val_acc: 0.7036\n",
      "Epoch 24/25\n",
      " 2656/45000 [>.............................] - ETA: 3:07 - loss: 0.1825 - acc: 0.940144992/45000 [============================>.] - ETA: 0s - loss: 0.2320 - acc: 0.921745000/45000 [==============================] - 134s 3ms/step - loss: 0.2320 - acc: 0.9216 - val_loss: 1.3805 - val_acc: 0.7036\n",
      "Epoch 25/25\n",
      "14144/45000 [========>.....................] - ETA: 1:35 - loss: 0.2003 - acc: 0.932845000/45000 [==============================] - 135s 3ms/step - loss: 0.2259 - acc: 0.9248 - val_loss: 1.3537 - val_acc: 0.7106\n"
     ]
    },
    {
     "data": {
      "text/plain": [
       "<keras.callbacks.History at 0x7f87bb669b70>"
      ]
     },
     "execution_count": 20,
     "metadata": {
      "tags": []
     },
     "output_type": "execute_result"
    }
   ],
   "source": [
    "epochs = 25\n",
    "batch_size = 32\n",
    "classifier.fit(X_train_data, Y_train_data, epochs = epochs, batch_size = batch_size, validation_data = (X_test_data, Y_test_data))"
   ]
  },
  {
   "cell_type": "code",
   "execution_count": 21,
   "metadata": {
    "colab": {
     "autoexec": {
      "startup": false,
      "wait_interval": 0
     },
     "base_uri": "https://localhost:8080/",
     "height": 34
    },
    "colab_type": "code",
    "executionInfo": {
     "elapsed": 9095,
     "status": "ok",
     "timestamp": 1532592923743,
     "user": {
      "displayName": "Aakash Gupta",
      "photoUrl": "//lh6.googleusercontent.com/-kX-2bxhvVVI/AAAAAAAAAAI/AAAAAAAAABY/Nc0rPjwkC8s/s50-c-k-no/photo.jpg",
      "userId": "116951462494679469142"
     },
     "user_tz": -330
    },
    "id": "tcWbiq7BcIOJ",
    "outputId": "236f3cba-e07d-4c51-8327-e1f1e9f5b265"
   },
   "outputs": [
    {
     "name": "stdout",
     "output_type": "stream",
     "text": [
      "10000/10000 [==============================] - 8s 799us/step\n"
     ]
    }
   ],
   "source": [
    "scores = classifier.evaluate(X_test, y_test)"
   ]
  },
  {
   "cell_type": "code",
   "execution_count": 22,
   "metadata": {
    "colab": {
     "autoexec": {
      "startup": false,
      "wait_interval": 0
     },
     "base_uri": "https://localhost:8080/",
     "height": 34
    },
    "colab_type": "code",
    "executionInfo": {
     "elapsed": 1159,
     "status": "ok",
     "timestamp": 1532592924994,
     "user": {
      "displayName": "Aakash Gupta",
      "photoUrl": "//lh6.googleusercontent.com/-kX-2bxhvVVI/AAAAAAAAAAI/AAAAAAAAABY/Nc0rPjwkC8s/s50-c-k-no/photo.jpg",
      "userId": "116951462494679469142"
     },
     "user_tz": -330
    },
    "id": "pNZJ79gLbqXp",
    "outputId": "6acfcfb2-b912-432e-9bbb-a1c0a6c4f5c8"
   },
   "outputs": [
    {
     "name": "stdout",
     "output_type": "stream",
     "text": [
      "accuracy : 68.52000000000001 \b%\n"
     ]
    }
   ],
   "source": [
    "print('accuracy :', scores[1] * 100, '\\b%')"
   ]
  }
 ],
 "metadata": {
  "colab": {
   "default_view": {},
   "name": "cifar.ipynb",
   "provenance": [],
   "version": "0.3.2",
   "views": {}
  },
  "kernelspec": {
   "display_name": "Python 3",
   "language": "python",
   "name": "python3"
  },
  "language_info": {
   "codemirror_mode": {
    "name": "ipython",
    "version": 3
   },
   "file_extension": ".py",
   "mimetype": "text/x-python",
   "name": "python",
   "nbconvert_exporter": "python",
   "pygments_lexer": "ipython3",
   "version": "3.6.5"
  }
 },
 "nbformat": 4,
 "nbformat_minor": 1
}
